{
 "cells": [
  {
   "cell_type": "markdown",
   "metadata": {},
   "source": [
    "This exercise will require you to pull some data from https://data.nasdaq.com/ (formerly Quandl API)."
   ]
  },
  {
   "cell_type": "markdown",
   "metadata": {},
   "source": [
    "As a first step, you will need to register a free account on the https://data.nasdaq.com/ website."
   ]
  },
  {
   "cell_type": "markdown",
   "metadata": {},
   "source": [
    "After you register, you will be provided with a unique API key, that you should store:\n",
    "\n",
    "*Note*: Use a `.env` file and put your key in there and `python-dotenv` to access it in this notebook. \n",
    "\n",
    "The code below uses a key that was used when generating this project but has since been deleted. Never submit your keys to source control. There is a `.env-example` file in this repository to illusrtate what you need. Copy that to a file called `.env` and use your own api key in that `.env` file. Make sure you also have a `.gitignore` file with a line for `.env` added to it. \n",
    "\n",
    "The standard Python gitignore is [here](https://github.com/github/gitignore/blob/master/Python.gitignore) you can just copy that. "
   ]
  },
  {
   "cell_type": "code",
   "execution_count": 1,
   "metadata": {},
   "outputs": [
    {
     "name": "stdout",
     "output_type": "stream",
     "text": [
      "\n"
     ]
    }
   ],
   "source": [
    "# get api key from your .env file\n",
    "import os\n",
    "\n",
    "from dotenv import load_dotenv\n",
    "\n",
    "load_dotenv()\n",
    "API_KEY= os.getenv('NASDAQ_API_KEY')\n",
    "\n",
    "print(API_KEY)"
   ]
  },
  {
   "cell_type": "markdown",
   "metadata": {},
   "source": [
    "Nasdaq Data has a large number of data sources, but, unfortunately, most of them require a Premium subscription. Still, there are also a good number of free datasets."
   ]
  },
  {
   "cell_type": "markdown",
   "metadata": {},
   "source": [
    "For this mini project, we will focus on equities data from the Frankfurt Stock Exhange (FSE), which is available for free. We'll try and analyze the stock prices of a company called Carl Zeiss Meditec, which manufactures tools for eye examinations, as well as medical lasers for laser eye surgery: https://www.zeiss.com/meditec/int/home.html. The company is listed under the stock ticker AFX_X."
   ]
  },
  {
   "cell_type": "markdown",
   "metadata": {},
   "source": [
    "You can find the detailed Nasdaq Data API instructions here: https://docs.data.nasdaq.com/docs/in-depth-usage"
   ]
  },
  {
   "cell_type": "markdown",
   "metadata": {},
   "source": [
    "While there is a dedicated Python package for connecting to the Nasdaq API, we would prefer that you use the *requests* package, which can be easily downloaded using *pip* or *conda*. You can find the documentation for the package here: http://docs.python-requests.org/en/master/ "
   ]
  },
  {
   "cell_type": "markdown",
   "metadata": {},
   "source": [
    "Finally, apart from the *requests* package, you are encouraged to not use any third party Python packages, such as *pandas*, and instead focus on what's available in the Python Standard Library (the *collections* module might come in handy: https://pymotw.com/3/collections/).\n",
    "Also, since you won't have access to DataFrames, you are encouraged to us Python's native data structures - preferably dictionaries, though some questions can also be answered using lists.\n",
    "You can read more on these data structures here: https://docs.python.org/3/tutorial/datastructures.html"
   ]
  },
  {
   "cell_type": "markdown",
   "metadata": {},
   "source": [
    "Keep in mind that the JSON responses you will be getting from the API map almost one-to-one to Python's dictionaries. Unfortunately, they can be very nested, so make sure you read up on indexing dictionaries in the documentation provided above."
   ]
  },
  {
   "cell_type": "code",
   "execution_count": 2,
   "metadata": {},
   "outputs": [],
   "source": [
    "# First, import the relevant modules\n",
    "\n",
    "import requests\n",
    "import json\n",
    "import quandl\n",
    "from statistics import mean\n",
    "from statistics import median"
   ]
  },
  {
   "cell_type": "markdown",
   "metadata": {},
   "source": [
    "Note: API's can change a bit with each version, for this exercise it is reccomended to use the nasdaq api at `https://data.nasdaq.com/api/v3/`. This is the same api as what used to be quandl so `https://www.quandl.com/api/v3/` should work too.\n",
    "\n",
    "Hint: We are looking for the `AFX_X` data on the `datasets/FSE/` dataset."
   ]
  },
  {
   "cell_type": "code",
   "execution_count": 3,
   "metadata": {},
   "outputs": [],
   "source": [
    "# Now, call the Nasdaq API and pull out a small sample of the data (only one day) to get a glimpse\n",
    "# into the JSON structure that will be returned\n",
    "\n",
    "# Assign URL to variable: url\n",
    "url= \"https://data.nasdaq.com/api/v3/datasets/FSE/AFX_X/data.json?start_date=2017-01-02&end_date=2017-01-02&api_key=\"\n",
    "\n",
    "\n"
   ]
  },
  {
   "cell_type": "code",
   "execution_count": 4,
   "metadata": {},
   "outputs": [
    {
     "name": "stdout",
     "output_type": "stream",
     "text": [
      "dataset_data:  {'limit': None, 'transform': None, 'column_index': None, 'column_names': ['Date', 'Open', 'High', 'Low', 'Close', 'Change', 'Traded Volume', 'Turnover', 'Last Price of the Day', 'Daily Traded Units', 'Daily Turnover'], 'start_date': '2017-01-02', 'end_date': '2017-01-02', 'frequency': 'daily', 'data': [['2017-01-02', 34.99, 35.94, 34.99, 35.8, None, 44700.0, 1590561.0, None, None, None]], 'collapse': None, 'order': None}\n"
     ]
    }
   ],
   "source": [
    "# Inspect the JSON structure of the object you created, and take note of how nested it is,\n",
    "# as well as the overall structure\n",
    "\n",
    "# Package the request, send the request and catch the response: r\n",
    "r = requests.get(url)\n",
    "\n",
    "# Decode the JSON data into a dictionary: json_data\n",
    "\n",
    "json_data = r.json()\n",
    "#print(json_data)\n",
    "# Print each key-value pair in json_data\n",
    "for k in json_data.keys():\n",
    "    print(k + ': ', json_data[k])"
   ]
  },
  {
   "cell_type": "markdown",
   "metadata": {},
   "source": [
    "These are your tasks for this mini project:\n",
    "\n",
    "1. Collect data from the Franfurt Stock Exchange, for the ticker AFX_X, for the whole year 2017 (keep in mind that the date format is YYYY-MM-DD).\n",
    "2. Convert the returned JSON object into a Python dictionary.\n",
    "3. Calculate what the highest and lowest opening prices were for the stock in this period.\n",
    "4. What was the largest change in any one day (based on High and Low price)?\n",
    "5. What was the largest change between any two days (based on Closing Price)?\n",
    "6. What was the average daily trading volume during this year?\n",
    "7. (Optional) What was the median trading volume during this year. (Note: you may need to implement your own function for calculating the median.)"
   ]
  },
  {
   "cell_type": "code",
   "execution_count": 5,
   "metadata": {},
   "outputs": [
    {
     "name": "stdout",
     "output_type": "stream",
     "text": [
      "Highest open price: [53.11] occurred ['2017-12-14']\n",
      "Lowest open price: [34.0] occurred ['2017-01-24']\n",
      "Max intraday price swing: [2.8100000000000023] occurred ['2017-05-11']\n",
      "Max close delta: [2.56] occurred ['2017-08-09']\n",
      "Average trading volume: 3853589.4509803923\n",
      "Median trading volume: 3292223.0\n"
     ]
    }
   ],
   "source": [
    "# Assign URL to variable: total year 2017\n",
    "url2= \"https://data.nasdaq.com/api/v3/datasets/FSE/AFX_X/data.json?column_index=1&start_date=2017-01-01&end_date=2017-12-31&api_key=\"\n",
    "url3= \"https://data.nasdaq.com/api/v3/datasets/FSE/AFX_X/data.json?start_date=2017-01-01&end_date=2017-12-31&api_key=\"\n",
    "url4= \"https://data.nasdaq.com/api/v3/datasets/FSE/AFX_X/data.json?column_index=4&start_date=2017-01-01&end_date=2017-12-31&transform=diff&api_key=\"\n",
    "# Inspect the JSON structure of the object you created, and take note of how nested it is,\n",
    "# as well as the overall structure\n",
    "\n",
    "# Package the request, send the request and catch the response:\n",
    "r2 = requests.get(url2)\n",
    "r3 = requests.get(url3)\n",
    "r4 = requests.get(url4)\n",
    "# Decode the JSON data into a dictionary: json_data\n",
    "\n",
    "json_data2 = r2.json()\n",
    "price_open =json_data2['dataset_data']['data']\n",
    "json_data3 = r3.json()\n",
    "price_swing =json_data3['dataset_data']['data']\n",
    "json_data4 = r4.json()\n",
    "close_delta =json_data4['dataset_data']['data']\n",
    "#print(price_open)\n",
    "open_prices = {} \n",
    " \n",
    "# Build dictionary for open price to determine min and max\n",
    "\n",
    "for i in range(len(price_open)):\n",
    "    if price_open[i][0] in open_prices:\n",
    "        open_prices[price_open[i][0]].append(price_open[i][1])\n",
    "      \n",
    "    else:\n",
    "        open_prices[price_open[i][0]]= []\n",
    "        open_prices[price_open[i][0]].append(price_open[i][1]) \n",
    "\n",
    "max_open_price=max(open_prices.values())\n",
    "max_keys = [k for k, v in open_prices.items() if v == max_open_price]\n",
    "min_open_price=min(open_prices.values())\n",
    "min_keys = [k for k, v in open_prices.items() if v == min_open_price]\n",
    "print(\"Highest open price: \"+str(max_open_price)+\" occurred \"+str(max_keys))\n",
    "print(\"Lowest open price: \"+str(min_open_price)+\" occurred \"+str(min_keys))\n",
    "\n",
    "one_day_swing = {} \n",
    " \n",
    "# Build dictionary for intra-day difference between High and Low price for the day\n",
    "\n",
    "for i in range(len(price_swing)):\n",
    "    # using absolute value abs() to capture magnitude of movement in price\n",
    "    if price_swing[i][0] in one_day_swing:\n",
    "        one_day_swing[price_swing[i][0]].append(abs(price_swing[i][2]-price_swing[i][3]))\n",
    "    else:\n",
    "        one_day_swing[price_swing[i][0]]= []\n",
    "        one_day_swing[price_swing[i][0]].append(abs(price_swing[i][2]-price_swing[i][3])) \n",
    "max_one_day_swing_price=max(one_day_swing.values())\n",
    "max_swing_keys = [k for k, v in one_day_swing.items() if v == max_one_day_swing_price]\n",
    "print(\"Max intraday price swing: \"+str(max_one_day_swing_price)+\" occurred \"+str(max_swing_keys))\n",
    "\n",
    "day_over_day_close = {} \n",
    " \n",
    "# Build dictionary for inter-day difference close price between the date and the date prior\n",
    "for i in range(len(close_delta)):\n",
    "    if close_delta[i][0] in day_over_day_close:\n",
    "        day_over_day_close[close_delta[i][0]].append(abs(close_delta[i][1]))\n",
    "      \n",
    "    else:\n",
    "        day_over_day_close[close_delta[i][0]]= []\n",
    "        day_over_day_close[close_delta[i][0]].append(abs(close_delta[i][1]))\n",
    "max_close_delta=max(day_over_day_close.values())\n",
    "max_close_delta_keys = [k for k, v in day_over_day_close.items() if v == max_close_delta]\n",
    "print(\"Max close delta: \"+str(max_close_delta)+\" occurred \"+str(max_close_delta_keys))\n",
    "\n",
    "\n",
    "trading_volume = [] \n",
    " \n",
    "#Build list to determine the mean and median for trading volume\n",
    "#Using price swing to build list\n",
    "for i in range(len(price_swing)):\n",
    "    trading_volume.append(price_swing[i][7])\n",
    "\n",
    "annual_trading_vol_avg= mean(trading_volume)\n",
    "median_trading_vol_avg= median(trading_volume)\n",
    "print(\"Average trading volume: \"+str(annual_trading_vol_avg))\n",
    "print(\"Median trading volume: \"+str(median_trading_vol_avg))"
   ]
  },
  {
   "cell_type": "code",
   "execution_count": null,
   "metadata": {},
   "outputs": [],
   "source": []
  }
 ],
 "metadata": {
  "interpreter": {
   "hash": "7635eb1b9d0fe97add78a7368b6b431c09bb8ad5c42e437d64abdd99821c31ae"
  },
  "kernelspec": {
   "display_name": "Python 3",
   "language": "python",
   "name": "python3"
  },
  "language_info": {
   "codemirror_mode": {
    "name": "ipython",
    "version": 3
   },
   "file_extension": ".py",
   "mimetype": "text/x-python",
   "name": "python",
   "nbconvert_exporter": "python",
   "pygments_lexer": "ipython3",
   "version": "3.8.8"
  }
 },
 "nbformat": 4,
 "nbformat_minor": 4
}
